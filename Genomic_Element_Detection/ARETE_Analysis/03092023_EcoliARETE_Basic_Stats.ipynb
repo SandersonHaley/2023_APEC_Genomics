{
 "cells": [
  {
   "cell_type": "code",
   "execution_count": 1,
   "id": "730c3e7f",
   "metadata": {},
   "outputs": [],
   "source": [
    "import os\n",
    "import pandas as pd"
   ]
  },
  {
   "cell_type": "code",
   "execution_count": 2,
   "id": "60ba1a36",
   "metadata": {},
   "outputs": [],
   "source": [
    "mobsuite = pd.read_csv(\"02072023_EcoliARETE_Plasmids_Isolates_All_no_novel_mobsuite_results_SUMS_all_stats.csv\")"
   ]
  },
  {
   "cell_type": "code",
   "execution_count": 3,
   "id": "8ee64814",
   "metadata": {},
   "outputs": [
    {
     "data": {
      "text/html": [
       "<div>\n",
       "<style scoped>\n",
       "    .dataframe tbody tr th:only-of-type {\n",
       "        vertical-align: middle;\n",
       "    }\n",
       "\n",
       "    .dataframe tbody tr th {\n",
       "        vertical-align: top;\n",
       "    }\n",
       "\n",
       "    .dataframe thead th {\n",
       "        text-align: right;\n",
       "    }\n",
       "</style>\n",
       "<table border=\"1\" class=\"dataframe\">\n",
       "  <thead>\n",
       "    <tr style=\"text-align: right;\">\n",
       "      <th></th>\n",
       "      <th>Genome</th>\n",
       "      <th>Source</th>\n",
       "      <th>Outbreak</th>\n",
       "      <th>Phylogroup</th>\n",
       "      <th>Total_Plasmids</th>\n",
       "    </tr>\n",
       "  </thead>\n",
       "  <tbody>\n",
       "    <tr>\n",
       "      <th>0</th>\n",
       "      <td>EC_0012_1H1_D</td>\n",
       "      <td>Diseased</td>\n",
       "      <td>F0012</td>\n",
       "      <td>G</td>\n",
       "      <td>2</td>\n",
       "    </tr>\n",
       "    <tr>\n",
       "      <th>1</th>\n",
       "      <td>EC_0012_2H1_D</td>\n",
       "      <td>Diseased</td>\n",
       "      <td>F0012</td>\n",
       "      <td>G</td>\n",
       "      <td>6</td>\n",
       "    </tr>\n",
       "    <tr>\n",
       "      <th>2</th>\n",
       "      <td>EC_0012_2L1_D</td>\n",
       "      <td>Diseased</td>\n",
       "      <td>F0012</td>\n",
       "      <td>B2</td>\n",
       "      <td>1</td>\n",
       "    </tr>\n",
       "    <tr>\n",
       "      <th>3</th>\n",
       "      <td>EC_0012_3S1_D</td>\n",
       "      <td>Diseased</td>\n",
       "      <td>F0012</td>\n",
       "      <td>G</td>\n",
       "      <td>6</td>\n",
       "    </tr>\n",
       "    <tr>\n",
       "      <th>4</th>\n",
       "      <td>EC_0012_C1_H</td>\n",
       "      <td>Cecal</td>\n",
       "      <td>F0012</td>\n",
       "      <td>A</td>\n",
       "      <td>3</td>\n",
       "    </tr>\n",
       "    <tr>\n",
       "      <th>...</th>\n",
       "      <td>...</td>\n",
       "      <td>...</td>\n",
       "      <td>...</td>\n",
       "      <td>...</td>\n",
       "      <td>...</td>\n",
       "    </tr>\n",
       "    <tr>\n",
       "      <th>240</th>\n",
       "      <td>EC_E9DI_2_E</td>\n",
       "      <td>Environmental</td>\n",
       "      <td>NaN</td>\n",
       "      <td>A</td>\n",
       "      <td>1</td>\n",
       "    </tr>\n",
       "    <tr>\n",
       "      <th>241</th>\n",
       "      <td>EC_E9DN_1_E</td>\n",
       "      <td>Environmental</td>\n",
       "      <td>NaN</td>\n",
       "      <td>A</td>\n",
       "      <td>2</td>\n",
       "    </tr>\n",
       "    <tr>\n",
       "      <th>242</th>\n",
       "      <td>EC_E9DN_2_E</td>\n",
       "      <td>Environmental</td>\n",
       "      <td>NaN</td>\n",
       "      <td>A</td>\n",
       "      <td>4</td>\n",
       "    </tr>\n",
       "    <tr>\n",
       "      <th>243</th>\n",
       "      <td>EC_E9FP_1_E</td>\n",
       "      <td>Environmental</td>\n",
       "      <td>NaN</td>\n",
       "      <td>A</td>\n",
       "      <td>0</td>\n",
       "    </tr>\n",
       "    <tr>\n",
       "      <th>244</th>\n",
       "      <td>EC_E9L_1_E</td>\n",
       "      <td>Environmental</td>\n",
       "      <td>NaN</td>\n",
       "      <td>D</td>\n",
       "      <td>3</td>\n",
       "    </tr>\n",
       "  </tbody>\n",
       "</table>\n",
       "<p>245 rows × 5 columns</p>\n",
       "</div>"
      ],
      "text/plain": [
       "            Genome         Source Outbreak Phylogroup  Total_Plasmids\n",
       "0    EC_0012_1H1_D       Diseased    F0012          G               2\n",
       "1    EC_0012_2H1_D       Diseased    F0012          G               6\n",
       "2    EC_0012_2L1_D       Diseased    F0012         B2               1\n",
       "3    EC_0012_3S1_D       Diseased    F0012          G               6\n",
       "4     EC_0012_C1_H          Cecal    F0012          A               3\n",
       "..             ...            ...      ...        ...             ...\n",
       "240    EC_E9DI_2_E  Environmental      NaN          A               1\n",
       "241    EC_E9DN_1_E  Environmental      NaN          A               2\n",
       "242    EC_E9DN_2_E  Environmental      NaN          A               4\n",
       "243    EC_E9FP_1_E  Environmental      NaN          A               0\n",
       "244     EC_E9L_1_E  Environmental      NaN          D               3\n",
       "\n",
       "[245 rows x 5 columns]"
      ]
     },
     "execution_count": 3,
     "metadata": {},
     "output_type": "execute_result"
    }
   ],
   "source": [
    "mobsuite"
   ]
  },
  {
   "cell_type": "code",
   "execution_count": 98,
   "id": "d7bb603a",
   "metadata": {},
   "outputs": [],
   "source": [
    "mobsuite1 = mobsuite.groupby(['Source', 'Outbreak']).size()\n",
    "\n"
   ]
  },
  {
   "cell_type": "code",
   "execution_count": 99,
   "id": "3de7e9d4",
   "metadata": {},
   "outputs": [],
   "source": [
    "mobsuite2 = mobsuite.groupby(['Source', 'Phylogroup']).size()"
   ]
  },
  {
   "cell_type": "code",
   "execution_count": null,
   "id": "601440a5",
   "metadata": {},
   "outputs": [],
   "source": []
  },
  {
   "cell_type": "code",
   "execution_count": 100,
   "id": "9c5f223a",
   "metadata": {},
   "outputs": [
    {
     "name": "stderr",
     "output_type": "stream",
     "text": [
      "/tmp/ipykernel_1148566/1952646061.py:1: FutureWarning: The default value of numeric_only in DataFrameGroupBy.mean is deprecated. In a future version, numeric_only will default to False. Either specify numeric_only or select only columns which should be valid for the function.\n",
      "  mobsuite3 = mobsuite.groupby(['Source', 'Outbreak']).mean()\n",
      "/tmp/ipykernel_1148566/1952646061.py:2: FutureWarning: The default value of numeric_only in DataFrameGroupBy.mean is deprecated. In a future version, numeric_only will default to False. Either specify numeric_only or select only columns which should be valid for the function.\n",
      "  mobsuite4 = mobsuite.groupby(['Source', 'Phylogroup']).mean()\n"
     ]
    }
   ],
   "source": [
    "mobsuite3 = mobsuite.groupby(['Source', 'Outbreak']).mean()\n",
    "mobsuite4 = mobsuite.groupby(['Source', 'Phylogroup']).mean()"
   ]
  },
  {
   "cell_type": "code",
   "execution_count": 101,
   "id": "b5899daa",
   "metadata": {},
   "outputs": [
    {
     "name": "stderr",
     "output_type": "stream",
     "text": [
      "/tmp/ipykernel_1148566/4058223332.py:1: FutureWarning: The default value of numeric_only in DataFrameGroupBy.sum is deprecated. In a future version, numeric_only will default to False. Either specify numeric_only or select only columns which should be valid for the function.\n",
      "  mobsuite5 = mobsuite.groupby(['Source', 'Outbreak']).sum()\n",
      "/tmp/ipykernel_1148566/4058223332.py:2: FutureWarning: The default value of numeric_only in DataFrameGroupBy.sum is deprecated. In a future version, numeric_only will default to False. Either specify numeric_only or select only columns which should be valid for the function.\n",
      "  mobsuite6 = mobsuite.groupby(['Source', 'Phylogroup']).sum()\n"
     ]
    }
   ],
   "source": [
    "mobsuite5 = mobsuite.groupby(['Source', 'Outbreak']).sum()\n",
    "mobsuite6 = mobsuite.groupby(['Source', 'Phylogroup']).sum()"
   ]
  },
  {
   "cell_type": "code",
   "execution_count": 4,
   "id": "58e0bf04",
   "metadata": {},
   "outputs": [],
   "source": [
    "mobsuite7 = mobsuite.groupby(['Source']).size()\n",
    "mobsuite8 = mobsuite.groupby(['Phylogroup']).size()\n",
    "mobsuite9 = mobsuite.groupby(['Outbreak']).size()"
   ]
  },
  {
   "cell_type": "code",
   "execution_count": 103,
   "id": "aa4ff47a",
   "metadata": {},
   "outputs": [
    {
     "name": "stderr",
     "output_type": "stream",
     "text": [
      "/tmp/ipykernel_1148566/2690569980.py:1: FutureWarning: The default value of numeric_only in DataFrameGroupBy.mean is deprecated. In a future version, numeric_only will default to False. Either specify numeric_only or select only columns which should be valid for the function.\n",
      "  mobsuite10 = mobsuite.groupby(['Source']).mean()\n",
      "/tmp/ipykernel_1148566/2690569980.py:2: FutureWarning: The default value of numeric_only in DataFrameGroupBy.mean is deprecated. In a future version, numeric_only will default to False. Either specify numeric_only or select only columns which should be valid for the function.\n",
      "  mobsuite11 = mobsuite.groupby(['Phylogroup']).mean()\n",
      "/tmp/ipykernel_1148566/2690569980.py:3: FutureWarning: The default value of numeric_only in DataFrameGroupBy.mean is deprecated. In a future version, numeric_only will default to False. Either specify numeric_only or select only columns which should be valid for the function.\n",
      "  mobsuite12 = mobsuite.groupby(['Outbreak']).mean()\n"
     ]
    }
   ],
   "source": [
    "mobsuite10 = mobsuite.groupby(['Source']).mean()\n",
    "mobsuite11 = mobsuite.groupby(['Phylogroup']).mean()\n",
    "mobsuite12 = mobsuite.groupby(['Outbreak']).mean()"
   ]
  },
  {
   "cell_type": "code",
   "execution_count": 104,
   "id": "9db9ab14",
   "metadata": {},
   "outputs": [
    {
     "name": "stderr",
     "output_type": "stream",
     "text": [
      "/tmp/ipykernel_1148566/3020074935.py:1: FutureWarning: The default value of numeric_only in DataFrameGroupBy.sum is deprecated. In a future version, numeric_only will default to False. Either specify numeric_only or select only columns which should be valid for the function.\n",
      "  mobsuite13 = mobsuite.groupby(['Source']).sum()\n",
      "/tmp/ipykernel_1148566/3020074935.py:2: FutureWarning: The default value of numeric_only in DataFrameGroupBy.sum is deprecated. In a future version, numeric_only will default to False. Either specify numeric_only or select only columns which should be valid for the function.\n",
      "  mobsuite14 = mobsuite.groupby(['Phylogroup']).sum()\n",
      "/tmp/ipykernel_1148566/3020074935.py:3: FutureWarning: The default value of numeric_only in DataFrameGroupBy.sum is deprecated. In a future version, numeric_only will default to False. Either specify numeric_only or select only columns which should be valid for the function.\n",
      "  mobsuite15 = mobsuite.groupby(['Outbreak']).sum()\n"
     ]
    }
   ],
   "source": [
    "mobsuite13 = mobsuite.groupby(['Source']).sum()\n",
    "mobsuite14 = mobsuite.groupby(['Phylogroup']).sum()\n",
    "mobsuite15 = mobsuite.groupby(['Outbreak']).sum()"
   ]
  },
  {
   "cell_type": "code",
   "execution_count": 105,
   "id": "0ba197c0",
   "metadata": {},
   "outputs": [],
   "source": [
    "mobsuite16=mobsuite[[\"Source\", \"Outbreak\", \"Phylogroup\"]].describe()"
   ]
  },
  {
   "cell_type": "code",
   "execution_count": 106,
   "id": "b83844fb",
   "metadata": {},
   "outputs": [],
   "source": [
    "mobsuite17=mobsuite[[\"Total_Plasmids\"]].describe()"
   ]
  },
  {
   "cell_type": "code",
   "execution_count": 5,
   "id": "a3b82997",
   "metadata": {},
   "outputs": [
    {
     "data": {
      "text/plain": [
       "Source\n",
       "Cecal            61\n",
       "Diseased         91\n",
       "Environmental    93\n",
       "dtype: int64"
      ]
     },
     "execution_count": 5,
     "metadata": {},
     "output_type": "execute_result"
    }
   ],
   "source": [
    "mobsuite7\n",
    "\n"
   ]
  },
  {
   "cell_type": "code",
   "execution_count": 108,
   "id": "64b92609",
   "metadata": {},
   "outputs": [],
   "source": [
    "AMR= pd.read_csv(\"02092023_EcoliARETE_RGI_strictperfectfiltered_crosstab_ALLSUMS_stats.csv\")"
   ]
  },
  {
   "cell_type": "code",
   "execution_count": 109,
   "id": "2fa5740d",
   "metadata": {
    "scrolled": true
   },
   "outputs": [
    {
     "name": "stderr",
     "output_type": "stream",
     "text": [
      "/tmp/ipykernel_1148566/618886078.py:1: FutureWarning: The default value of numeric_only in DataFrameGroupBy.mean is deprecated. In a future version, numeric_only will default to False. Either specify numeric_only or select only columns which should be valid for the function.\n",
      "  AMR3 = AMR.groupby(['Source', 'Outbreak']).mean()\n",
      "/tmp/ipykernel_1148566/618886078.py:2: FutureWarning: The default value of numeric_only in DataFrameGroupBy.mean is deprecated. In a future version, numeric_only will default to False. Either specify numeric_only or select only columns which should be valid for the function.\n",
      "  AMR4 = AMR.groupby(['Source', 'Phylogroup']).mean()\n",
      "/tmp/ipykernel_1148566/618886078.py:3: FutureWarning: The default value of numeric_only in DataFrameGroupBy.sum is deprecated. In a future version, numeric_only will default to False. Either specify numeric_only or select only columns which should be valid for the function.\n",
      "  AMR5 = AMR.groupby(['Source', 'Outbreak']).sum()\n",
      "/tmp/ipykernel_1148566/618886078.py:4: FutureWarning: The default value of numeric_only in DataFrameGroupBy.sum is deprecated. In a future version, numeric_only will default to False. Either specify numeric_only or select only columns which should be valid for the function.\n",
      "  AMR6 = AMR.groupby(['Source', 'Phylogroup']).sum()\n",
      "/tmp/ipykernel_1148566/618886078.py:6: FutureWarning: The default value of numeric_only in DataFrameGroupBy.mean is deprecated. In a future version, numeric_only will default to False. Either specify numeric_only or select only columns which should be valid for the function.\n",
      "  AMR10 = AMR.groupby(['Source']).mean()\n",
      "/tmp/ipykernel_1148566/618886078.py:7: FutureWarning: The default value of numeric_only in DataFrameGroupBy.mean is deprecated. In a future version, numeric_only will default to False. Either specify numeric_only or select only columns which should be valid for the function.\n",
      "  AMR11 = AMR.groupby(['Phylogroup']).mean()\n",
      "/tmp/ipykernel_1148566/618886078.py:8: FutureWarning: The default value of numeric_only in DataFrameGroupBy.mean is deprecated. In a future version, numeric_only will default to False. Either specify numeric_only or select only columns which should be valid for the function.\n",
      "  AMR12 = AMR.groupby(['Outbreak']).mean()\n",
      "/tmp/ipykernel_1148566/618886078.py:9: FutureWarning: The default value of numeric_only in DataFrameGroupBy.sum is deprecated. In a future version, numeric_only will default to False. Either specify numeric_only or select only columns which should be valid for the function.\n",
      "  AMR13 = AMR.groupby(['Source']).sum()\n",
      "/tmp/ipykernel_1148566/618886078.py:10: FutureWarning: The default value of numeric_only in DataFrameGroupBy.sum is deprecated. In a future version, numeric_only will default to False. Either specify numeric_only or select only columns which should be valid for the function.\n",
      "  AMR14 = AMR.groupby(['Phylogroup']).sum()\n",
      "/tmp/ipykernel_1148566/618886078.py:11: FutureWarning: The default value of numeric_only in DataFrameGroupBy.sum is deprecated. In a future version, numeric_only will default to False. Either specify numeric_only or select only columns which should be valid for the function.\n",
      "  AMR15 = AMR.groupby(['Outbreak']).sum()\n"
     ]
    }
   ],
   "source": [
    "\n",
    "AMR3 = AMR.groupby(['Source', 'Outbreak']).mean()\n",
    "AMR4 = AMR.groupby(['Source', 'Phylogroup']).mean()\n",
    "AMR5 = AMR.groupby(['Source', 'Outbreak']).sum()\n",
    "AMR6 = AMR.groupby(['Source', 'Phylogroup']).sum()\n",
    "\n",
    "AMR10 = AMR.groupby(['Source']).mean()\n",
    "AMR11 = AMR.groupby(['Phylogroup']).mean()\n",
    "AMR12 = AMR.groupby(['Outbreak']).mean()\n",
    "AMR13 = AMR.groupby(['Source']).sum()\n",
    "AMR14 = AMR.groupby(['Phylogroup']).sum()\n",
    "AMR15 = AMR.groupby(['Outbreak']).sum()\n",
    "\n",
    "AMR17 = AMR[[\"Total_AMR\"]].describe()"
   ]
  },
  {
   "cell_type": "code",
   "execution_count": 158,
   "id": "8613a528",
   "metadata": {},
   "outputs": [
    {
     "data": {
      "text/html": [
       "<div>\n",
       "<style scoped>\n",
       "    .dataframe tbody tr th:only-of-type {\n",
       "        vertical-align: middle;\n",
       "    }\n",
       "\n",
       "    .dataframe tbody tr th {\n",
       "        vertical-align: top;\n",
       "    }\n",
       "\n",
       "    .dataframe thead th {\n",
       "        text-align: right;\n",
       "    }\n",
       "</style>\n",
       "<table border=\"1\" class=\"dataframe\">\n",
       "  <thead>\n",
       "    <tr style=\"text-align: right;\">\n",
       "      <th></th>\n",
       "      <th>Total_AMR</th>\n",
       "    </tr>\n",
       "  </thead>\n",
       "  <tbody>\n",
       "    <tr>\n",
       "      <th>count</th>\n",
       "      <td>245.000000</td>\n",
       "    </tr>\n",
       "    <tr>\n",
       "      <th>mean</th>\n",
       "      <td>57.191837</td>\n",
       "    </tr>\n",
       "    <tr>\n",
       "      <th>std</th>\n",
       "      <td>4.643868</td>\n",
       "    </tr>\n",
       "    <tr>\n",
       "      <th>min</th>\n",
       "      <td>51.000000</td>\n",
       "    </tr>\n",
       "    <tr>\n",
       "      <th>25%</th>\n",
       "      <td>54.000000</td>\n",
       "    </tr>\n",
       "    <tr>\n",
       "      <th>50%</th>\n",
       "      <td>56.000000</td>\n",
       "    </tr>\n",
       "    <tr>\n",
       "      <th>75%</th>\n",
       "      <td>59.000000</td>\n",
       "    </tr>\n",
       "    <tr>\n",
       "      <th>max</th>\n",
       "      <td>90.000000</td>\n",
       "    </tr>\n",
       "  </tbody>\n",
       "</table>\n",
       "</div>"
      ],
      "text/plain": [
       "        Total_AMR\n",
       "count  245.000000\n",
       "mean    57.191837\n",
       "std      4.643868\n",
       "min     51.000000\n",
       "25%     54.000000\n",
       "50%     56.000000\n",
       "75%     59.000000\n",
       "max     90.000000"
      ]
     },
     "execution_count": 158,
     "metadata": {},
     "output_type": "execute_result"
    }
   ],
   "source": [
    "AMR17"
   ]
  },
  {
   "cell_type": "code",
   "execution_count": 111,
   "id": "71800e30",
   "metadata": {},
   "outputs": [],
   "source": [
    "VF = pd.read_csv(\"02072023_EcoliARETE_VFDB_filtered80_crosstab_ALLSUMS_stats.csv\")"
   ]
  },
  {
   "cell_type": "code",
   "execution_count": 112,
   "id": "01c374fa",
   "metadata": {},
   "outputs": [
    {
     "name": "stderr",
     "output_type": "stream",
     "text": [
      "/tmp/ipykernel_1148566/3757966159.py:1: FutureWarning: The default value of numeric_only in DataFrameGroupBy.mean is deprecated. In a future version, numeric_only will default to False. Either specify numeric_only or select only columns which should be valid for the function.\n",
      "  VF3 = VF.groupby(['Source', 'Outbreak']).mean()\n",
      "/tmp/ipykernel_1148566/3757966159.py:2: FutureWarning: The default value of numeric_only in DataFrameGroupBy.mean is deprecated. In a future version, numeric_only will default to False. Either specify numeric_only or select only columns which should be valid for the function.\n",
      "  VF4 = VF.groupby(['Source', 'Phylogroup']).mean()\n",
      "/tmp/ipykernel_1148566/3757966159.py:3: FutureWarning: The default value of numeric_only in DataFrameGroupBy.sum is deprecated. In a future version, numeric_only will default to False. Either specify numeric_only or select only columns which should be valid for the function.\n",
      "  VF5 = VF.groupby(['Source', 'Outbreak']).sum()\n",
      "/tmp/ipykernel_1148566/3757966159.py:4: FutureWarning: The default value of numeric_only in DataFrameGroupBy.sum is deprecated. In a future version, numeric_only will default to False. Either specify numeric_only or select only columns which should be valid for the function.\n",
      "  VF6 = VF.groupby(['Source', 'Phylogroup']).sum()\n",
      "/tmp/ipykernel_1148566/3757966159.py:6: FutureWarning: The default value of numeric_only in DataFrameGroupBy.mean is deprecated. In a future version, numeric_only will default to False. Either specify numeric_only or select only columns which should be valid for the function.\n",
      "  VF10 = VF.groupby(['Source']).mean()\n",
      "/tmp/ipykernel_1148566/3757966159.py:7: FutureWarning: The default value of numeric_only in DataFrameGroupBy.mean is deprecated. In a future version, numeric_only will default to False. Either specify numeric_only or select only columns which should be valid for the function.\n",
      "  VF11 = VF.groupby(['Phylogroup']).mean()\n",
      "/tmp/ipykernel_1148566/3757966159.py:8: FutureWarning: The default value of numeric_only in DataFrameGroupBy.mean is deprecated. In a future version, numeric_only will default to False. Either specify numeric_only or select only columns which should be valid for the function.\n",
      "  VF12 = VF.groupby(['Outbreak']).mean()\n",
      "/tmp/ipykernel_1148566/3757966159.py:9: FutureWarning: The default value of numeric_only in DataFrameGroupBy.sum is deprecated. In a future version, numeric_only will default to False. Either specify numeric_only or select only columns which should be valid for the function.\n",
      "  VF13 = VF.groupby(['Source']).sum()\n",
      "/tmp/ipykernel_1148566/3757966159.py:10: FutureWarning: The default value of numeric_only in DataFrameGroupBy.sum is deprecated. In a future version, numeric_only will default to False. Either specify numeric_only or select only columns which should be valid for the function.\n",
      "  VF14 = VF.groupby(['Phylogroup']).sum()\n",
      "/tmp/ipykernel_1148566/3757966159.py:11: FutureWarning: The default value of numeric_only in DataFrameGroupBy.sum is deprecated. In a future version, numeric_only will default to False. Either specify numeric_only or select only columns which should be valid for the function.\n",
      "  VF15 = VF.groupby(['Outbreak']).sum()\n"
     ]
    }
   ],
   "source": [
    "\n",
    "VF3 = VF.groupby(['Source', 'Outbreak']).mean()\n",
    "VF4 = VF.groupby(['Source', 'Phylogroup']).mean()\n",
    "VF5 = VF.groupby(['Source', 'Outbreak']).sum()\n",
    "VF6 = VF.groupby(['Source', 'Phylogroup']).sum()\n",
    "\n",
    "VF10 = VF.groupby(['Source']).mean()\n",
    "VF11 = VF.groupby(['Phylogroup']).mean()\n",
    "VF12 = VF.groupby(['Outbreak']).mean()\n",
    "VF13 = VF.groupby(['Source']).sum()\n",
    "VF14 = VF.groupby(['Phylogroup']).sum()\n",
    "VF15 = VF.groupby(['Outbreak']).sum()\n",
    "\n",
    "VF17 = VF[[\"Total_VF\"]].describe()"
   ]
  },
  {
   "cell_type": "code",
   "execution_count": 159,
   "id": "cf925ef4",
   "metadata": {},
   "outputs": [
    {
     "data": {
      "text/html": [
       "<div>\n",
       "<style scoped>\n",
       "    .dataframe tbody tr th:only-of-type {\n",
       "        vertical-align: middle;\n",
       "    }\n",
       "\n",
       "    .dataframe tbody tr th {\n",
       "        vertical-align: top;\n",
       "    }\n",
       "\n",
       "    .dataframe thead th {\n",
       "        text-align: right;\n",
       "    }\n",
       "</style>\n",
       "<table border=\"1\" class=\"dataframe\">\n",
       "  <thead>\n",
       "    <tr style=\"text-align: right;\">\n",
       "      <th></th>\n",
       "      <th>Total_VF</th>\n",
       "    </tr>\n",
       "  </thead>\n",
       "  <tbody>\n",
       "    <tr>\n",
       "      <th>count</th>\n",
       "      <td>245.000000</td>\n",
       "    </tr>\n",
       "    <tr>\n",
       "      <th>mean</th>\n",
       "      <td>173.004082</td>\n",
       "    </tr>\n",
       "    <tr>\n",
       "      <th>std</th>\n",
       "      <td>35.710413</td>\n",
       "    </tr>\n",
       "    <tr>\n",
       "      <th>min</th>\n",
       "      <td>90.000000</td>\n",
       "    </tr>\n",
       "    <tr>\n",
       "      <th>25%</th>\n",
       "      <td>144.000000</td>\n",
       "    </tr>\n",
       "    <tr>\n",
       "      <th>50%</th>\n",
       "      <td>173.000000</td>\n",
       "    </tr>\n",
       "    <tr>\n",
       "      <th>75%</th>\n",
       "      <td>193.000000</td>\n",
       "    </tr>\n",
       "    <tr>\n",
       "      <th>max</th>\n",
       "      <td>285.000000</td>\n",
       "    </tr>\n",
       "  </tbody>\n",
       "</table>\n",
       "</div>"
      ],
      "text/plain": [
       "         Total_VF\n",
       "count  245.000000\n",
       "mean   173.004082\n",
       "std     35.710413\n",
       "min     90.000000\n",
       "25%    144.000000\n",
       "50%    173.000000\n",
       "75%    193.000000\n",
       "max    285.000000"
      ]
     },
     "execution_count": 159,
     "metadata": {},
     "output_type": "execute_result"
    }
   ],
   "source": [
    "VF17"
   ]
  },
  {
   "cell_type": "code",
   "execution_count": 114,
   "id": "f6059093",
   "metadata": {},
   "outputs": [],
   "source": [
    "BM = pd.read_csv(\"02072023_EcoliARETE_BACMET_filtered80_crosstab_ALLSUMS_stats.csv\")"
   ]
  },
  {
   "cell_type": "code",
   "execution_count": 115,
   "id": "07f8573a",
   "metadata": {},
   "outputs": [
    {
     "name": "stderr",
     "output_type": "stream",
     "text": [
      "/tmp/ipykernel_1148566/713624542.py:1: FutureWarning: The default value of numeric_only in DataFrameGroupBy.mean is deprecated. In a future version, numeric_only will default to False. Either specify numeric_only or select only columns which should be valid for the function.\n",
      "  BM3 = BM.groupby(['Source', 'Outbreak']).mean()\n",
      "/tmp/ipykernel_1148566/713624542.py:2: FutureWarning: The default value of numeric_only in DataFrameGroupBy.mean is deprecated. In a future version, numeric_only will default to False. Either specify numeric_only or select only columns which should be valid for the function.\n",
      "  BM4 = BM.groupby(['Source', 'Phylogroup']).mean()\n",
      "/tmp/ipykernel_1148566/713624542.py:3: FutureWarning: The default value of numeric_only in DataFrameGroupBy.sum is deprecated. In a future version, numeric_only will default to False. Either specify numeric_only or select only columns which should be valid for the function.\n",
      "  BM5 = BM.groupby(['Source', 'Outbreak']).sum()\n",
      "/tmp/ipykernel_1148566/713624542.py:4: FutureWarning: The default value of numeric_only in DataFrameGroupBy.sum is deprecated. In a future version, numeric_only will default to False. Either specify numeric_only or select only columns which should be valid for the function.\n",
      "  BM6 = BM.groupby(['Source', 'Phylogroup']).sum()\n",
      "/tmp/ipykernel_1148566/713624542.py:6: FutureWarning: The default value of numeric_only in DataFrameGroupBy.mean is deprecated. In a future version, numeric_only will default to False. Either specify numeric_only or select only columns which should be valid for the function.\n",
      "  BM10 = BM.groupby(['Source']).mean()\n",
      "/tmp/ipykernel_1148566/713624542.py:7: FutureWarning: The default value of numeric_only in DataFrameGroupBy.mean is deprecated. In a future version, numeric_only will default to False. Either specify numeric_only or select only columns which should be valid for the function.\n",
      "  BM11 = BM.groupby(['Phylogroup']).mean()\n",
      "/tmp/ipykernel_1148566/713624542.py:8: FutureWarning: The default value of numeric_only in DataFrameGroupBy.mean is deprecated. In a future version, numeric_only will default to False. Either specify numeric_only or select only columns which should be valid for the function.\n",
      "  BM12 = BM.groupby(['Outbreak']).mean()\n",
      "/tmp/ipykernel_1148566/713624542.py:9: FutureWarning: The default value of numeric_only in DataFrameGroupBy.sum is deprecated. In a future version, numeric_only will default to False. Either specify numeric_only or select only columns which should be valid for the function.\n",
      "  BM13 = BM.groupby(['Source']).sum()\n",
      "/tmp/ipykernel_1148566/713624542.py:10: FutureWarning: The default value of numeric_only in DataFrameGroupBy.sum is deprecated. In a future version, numeric_only will default to False. Either specify numeric_only or select only columns which should be valid for the function.\n",
      "  BM14 = BM.groupby(['Phylogroup']).sum()\n",
      "/tmp/ipykernel_1148566/713624542.py:11: FutureWarning: The default value of numeric_only in DataFrameGroupBy.sum is deprecated. In a future version, numeric_only will default to False. Either specify numeric_only or select only columns which should be valid for the function.\n",
      "  BM15 = BM.groupby(['Outbreak']).sum()\n"
     ]
    }
   ],
   "source": [
    "BM3 = BM.groupby(['Source', 'Outbreak']).mean()\n",
    "BM4 = BM.groupby(['Source', 'Phylogroup']).mean()\n",
    "BM5 = BM.groupby(['Source', 'Outbreak']).sum()\n",
    "BM6 = BM.groupby(['Source', 'Phylogroup']).sum()\n",
    "\n",
    "BM10 = BM.groupby(['Source']).mean()\n",
    "BM11 = BM.groupby(['Phylogroup']).mean()\n",
    "BM12 = BM.groupby(['Outbreak']).mean()\n",
    "BM13 = BM.groupby(['Source']).sum()\n",
    "BM14 = BM.groupby(['Phylogroup']).sum()\n",
    "BM15 = BM.groupby(['Outbreak']).sum()\n",
    "\n",
    "BM17 = BM[[\"Total_BACMET\"]].describe()"
   ]
  },
  {
   "cell_type": "code",
   "execution_count": 160,
   "id": "c0a2622c",
   "metadata": {},
   "outputs": [
    {
     "data": {
      "text/html": [
       "<div>\n",
       "<style scoped>\n",
       "    .dataframe tbody tr th:only-of-type {\n",
       "        vertical-align: middle;\n",
       "    }\n",
       "\n",
       "    .dataframe tbody tr th {\n",
       "        vertical-align: top;\n",
       "    }\n",
       "\n",
       "    .dataframe thead th {\n",
       "        text-align: right;\n",
       "    }\n",
       "</style>\n",
       "<table border=\"1\" class=\"dataframe\">\n",
       "  <thead>\n",
       "    <tr style=\"text-align: right;\">\n",
       "      <th></th>\n",
       "      <th>Total_BACMET</th>\n",
       "    </tr>\n",
       "  </thead>\n",
       "  <tbody>\n",
       "    <tr>\n",
       "      <th>count</th>\n",
       "      <td>245.000000</td>\n",
       "    </tr>\n",
       "    <tr>\n",
       "      <th>mean</th>\n",
       "      <td>3930.208163</td>\n",
       "    </tr>\n",
       "    <tr>\n",
       "      <th>std</th>\n",
       "      <td>249.103428</td>\n",
       "    </tr>\n",
       "    <tr>\n",
       "      <th>min</th>\n",
       "      <td>3596.000000</td>\n",
       "    </tr>\n",
       "    <tr>\n",
       "      <th>25%</th>\n",
       "      <td>3769.000000</td>\n",
       "    </tr>\n",
       "    <tr>\n",
       "      <th>50%</th>\n",
       "      <td>3870.000000</td>\n",
       "    </tr>\n",
       "    <tr>\n",
       "      <th>75%</th>\n",
       "      <td>4010.000000</td>\n",
       "    </tr>\n",
       "    <tr>\n",
       "      <th>max</th>\n",
       "      <td>5566.000000</td>\n",
       "    </tr>\n",
       "  </tbody>\n",
       "</table>\n",
       "</div>"
      ],
      "text/plain": [
       "       Total_BACMET\n",
       "count    245.000000\n",
       "mean    3930.208163\n",
       "std      249.103428\n",
       "min     3596.000000\n",
       "25%     3769.000000\n",
       "50%     3870.000000\n",
       "75%     4010.000000\n",
       "max     5566.000000"
      ]
     },
     "execution_count": 160,
     "metadata": {},
     "output_type": "execute_result"
    }
   ],
   "source": [
    "BM17\n"
   ]
  },
  {
   "cell_type": "code",
   "execution_count": null,
   "id": "9d08e770",
   "metadata": {},
   "outputs": [],
   "source": []
  },
  {
   "cell_type": "code",
   "execution_count": null,
   "id": "6711ea14",
   "metadata": {},
   "outputs": [],
   "source": []
  },
  {
   "cell_type": "code",
   "execution_count": null,
   "id": "3222315f",
   "metadata": {},
   "outputs": [],
   "source": []
  },
  {
   "cell_type": "code",
   "execution_count": null,
   "id": "e8cbb6ee",
   "metadata": {},
   "outputs": [],
   "source": []
  }
 ],
 "metadata": {
  "kernelspec": {
   "display_name": "Python 3 (ipykernel)",
   "language": "python",
   "name": "python3"
  },
  "language_info": {
   "codemirror_mode": {
    "name": "ipython",
    "version": 3
   },
   "file_extension": ".py",
   "mimetype": "text/x-python",
   "name": "python",
   "nbconvert_exporter": "python",
   "pygments_lexer": "ipython3",
   "version": "3.9.16"
  }
 },
 "nbformat": 4,
 "nbformat_minor": 5
}
